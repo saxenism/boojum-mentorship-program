{
 "cells": [
  {
   "cell_type": "code",
   "execution_count": 53,
   "metadata": {},
   "outputs": [],
   "source": [
    "# The EC equation is: y^2 = x^3 + ax + b\n",
    "## A finite field and the order of the group must be announced publicly.\n",
    "## Order of the group: Number of points on the curve\n",
    "## Finite field: How much do you modulo a number by.\n",
    "\n",
    "# Generator Point G: {x = 55066263022277343669578718895168534326250603453777594175500187360389116729240, y = 32670510020758816978083085130507043184471273380659243275938904335757337482424}}\n",
    "# Order n: 115792089237316195423570985008687907852837564279074904382605163141518161494337\n",
    "\n",
    "# n = 115792089237316195423570985008687907852837564279074904382605163141518161494337 (Scalar Field)\n",
    "# p = 115792089237316195423570985008687907853269984665640564039457584007908834671663 (Base Field)\n",
    "\n",
    "# '''\n",
    "# Now what are these n and p numbers?\n",
    "\n",
    "# Well, n is the scalar field and p is the base field.\n",
    "\n",
    "# n = https://github.com/matter-labs/era-zkevm_circuits/blob/v1.4.1/src/ecrecover/secp256k1/fr.rs\n",
    "# p = https://github.com/matter-labs/era-zkevm_circuits/blob/v1.4.1/src/ecrecover/secp256k1/fq.rs\n",
    " \n",
    "# Base field of an elliptic curve is the field over which the curve is defined. \n",
    "# The base field size thereby defines the number of elements of the finite field.\n",
    "# Scalar field is the field of scalars used in the operations performed on the curve, such as point addition, scalar multiplication and pairings\n",
    "# '''\n",
    "\n",
    "# The private key is a random integer between [0..n-1]\n",
    "# And then, the public key would be a point on the Elliptic curve, privKey * G\n",
    "\n",
    "# For the `secp256k1` curve, the private key is 256-bit integer (32 bytes) and the compressed public key is 257-bit integer (~33 bytes)"
   ]
  },
  {
   "cell_type": "code",
   "execution_count": 54,
   "metadata": {},
   "outputs": [
    {
     "name": "stdout",
     "output_type": "stream",
     "text": [
      "15795942572089539261785026942139819340104458755837367492447218388857379368638\n",
      "Message:  Hello Boojum\n",
      "Private Key:  14557687400911315942777225618197320611973559191654161877905159191096137924645\n",
      "Signature: r= 0x5a1f45320c2ff190b74aea65ffcc434953162e6603500f37b14236e02302b2c0 , s= 0xf4f4fa998eca45a0a1d1211b0c6571cb63569cb954a8f534243d57afe63b7918\n",
      "\n",
      "Message:  Hello Boojum\n",
      "Public Key: (0x214a5eea66b73b910de29101fd12f8c6b8c22a08af58b31b62a0fddc13449e9d, 0xfae89e697ce6894034a74ffcf62c08a3dfebceba51b80a2b40cb804a0534d717)\n",
      "Signature Valid? True\n",
      "\n",
      " message:  Tampered Message\n",
      "Signature: (tampered msg) is it valid??  False\n"
     ]
    }
   ],
   "source": [
    "# pip install pycoin\n",
    "\n",
    "import hashlib\n",
    "import pycoin, secrets\n",
    "\n",
    "import pycoin.ecdsa\n",
    "import pycoin.ecdsa.secp256k1\n",
    "\n",
    "secp256k1_generator = pycoin.ecdsa.secp256k1.secp256k1_generator\n",
    "\n",
    "def sha3_256Hash(msg):\n",
    "    hashBytes = hashlib.sha3_256(msg.encode(\"utf8\")).digest()\n",
    "    return int.from_bytes(hashBytes, byteorder=\"big\")\n",
    "\n",
    "def signECDSAsecp256k1(msg, privKey):\n",
    "    msgHash = sha3_256Hash(msg)\n",
    "    signature = pycoin.ecdsa.secp256k1.Generator.sign(secp256k1_generator, privKey, msgHash)\n",
    "    return signature\n",
    "\n",
    "def verifyECDSAsecp256k1(msg, signature, pubKey):\n",
    "    msgHash = sha3_256Hash(msg)\n",
    "    valid = pycoin.ecdsa.secp256k1.Generator.verify(secp256k1_generator, pubKey, msgHash, signature)\n",
    "    return valid\n",
    "\n",
    "print(sha3_256Hash(\"Hello Boojum\"))\n",
    "\n",
    "# Generate a signature for a message using ECDSA\n",
    "msg = \"Hello Boojum\"\n",
    "privKey = secrets.randbelow(secp256k1_generator.order())\n",
    "signature = signECDSAsecp256k1(msg, privKey)\n",
    "\n",
    "print(\"Message: \", msg)\n",
    "print(\"Private Key: \", privKey)\n",
    "print(\"Signature: r= \" + hex(signature[0]) + \" , s= \" + hex(signature[1]))\n",
    "\n",
    "# ECDSA verify signature\n",
    "pubKey = secp256k1_generator.raw_mul(privKey)\n",
    "valid = verifyECDSAsecp256k1(msg, signature, pubKey)\n",
    "\n",
    "print(\"\\nMessage: \", msg)\n",
    "print(\"Public Key: (\" + hex(pubKey[0]) + \", \" + hex(pubKey[1]) + \")\")\n",
    "print(\"Signature Valid?\", valid)\n",
    "\n",
    "# Negative test\n",
    "msg = \"Tampered Message\"\n",
    "valid = verifyECDSAsecp256k1(msg, signature, pubKey)\n",
    "print(\"\\n message: \", msg)\n",
    "print(\"Signature: (tampered msg) is it valid?? \", valid)"
   ]
  }
 ],
 "metadata": {
  "kernelspec": {
   "display_name": "Python 3",
   "language": "python",
   "name": "python3"
  },
  "language_info": {
   "codemirror_mode": {
    "name": "ipython",
    "version": 3
   },
   "file_extension": ".py",
   "mimetype": "text/x-python",
   "name": "python",
   "nbconvert_exporter": "python",
   "pygments_lexer": "ipython3",
   "version": "3.11.9"
  }
 },
 "nbformat": 4,
 "nbformat_minor": 2
}
